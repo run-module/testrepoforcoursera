{
 "cells": [
  {
   "cell_type": "markdown",
   "id": "8b479b6a-db11-48ae-b516-6224473c561c",
   "metadata": {
    "tags": []
   },
   "source": [
    "# Data Science Tools and Ecosystem\n",
    "In this notebook, Data Science Tools and Ecosystem are summarized."
   ]
  },
  {
   "cell_type": "markdown",
   "id": "c73db6cb-b8b2-4ad2-bf27-7e1c98b863b0",
   "metadata": {},
   "source": [
    "Some of the popular languages that Data Scientists use are:\n",
    "1. Python\n",
    "2. R\n",
    "3. SQL\n",
    "4. Scala\n",
    "5. Julia\n",
    "6. C++"
   ]
  },
  {
   "cell_type": "markdown",
   "id": "0f149386-10da-425c-ab10-46116649f4b8",
   "metadata": {},
   "source": [
    "Some of the commonly used libraries used by Data Scientists include:\n",
    "1. Pandas\n",
    "2. Numpy\n",
    "3. Keras\n",
    "4. Scikitlearn\n",
    "5. Matplotlib\n",
    "6. Pytorch"
   ]
  },
  {
   "cell_type": "markdown",
   "id": "83e39727-5bb4-42b3-a1c1-e71da103df9d",
   "metadata": {},
   "source": [
    "|Data Science Tools|\n",
    "|------------------|\n",
    "|Rstudio|\n",
    "|JupyterNotebooks|\n",
    "|Apache Spark|"
   ]
  },
  {
   "cell_type": "markdown",
   "id": "9fe4a6b3-2ba2-4c28-9264-d3f2c21895d0",
   "metadata": {},
   "source": [
    "### Below are a few examples of evaluating arithmetic expressions in Python"
   ]
  },
  {
   "cell_type": "code",
   "execution_count": 1,
   "id": "872e4c24-f592-4bf5-9506-cf9ab3a47635",
   "metadata": {
    "tags": []
   },
   "outputs": [
    {
     "data": {
      "text/plain": [
       "17"
      ]
     },
     "execution_count": 1,
     "metadata": {},
     "output_type": "execute_result"
    }
   ],
   "source": [
    "(3*4)+5\n",
    "# This is simple arithmetic expression to multiply then add integers"
   ]
  },
  {
   "cell_type": "code",
   "execution_count": 2,
   "id": "ae928d01-b032-485a-9a05-0ec5dd99b9ea",
   "metadata": {
    "tags": []
   },
   "outputs": [
    {
     "data": {
      "text/plain": [
       "3.3333333333333335"
      ]
     },
     "execution_count": 2,
     "metadata": {},
     "output_type": "execute_result"
    }
   ],
   "source": [
    "# This will convert 200 minutes to hours by diving by 60\n",
    "200/60"
   ]
  },
  {
   "cell_type": "markdown",
   "id": "d719270b-3c3d-42d2-ac55-a272d07d3644",
   "metadata": {},
   "source": [
    "Objectives:\n",
    "- List Popular Languages for Data Science\n",
    "- List Commonly used libraries for Data Science\n",
    "- List data science tools used by data scientists\n",
    "- Using the code cell for simple arithmetic expressions\n",
    "- using the comments in a code cell for explaining the code"
   ]
  },
  {
   "cell_type": "markdown",
   "id": "2eaad89f-2189-4a6a-aa76-1867843a99ab",
   "metadata": {},
   "source": [
    "## Author\n",
    "Sai Surya Aarnav Dasari"
   ]
  }
 ],
 "metadata": {
  "kernelspec": {
   "display_name": "Python",
   "language": "python",
   "name": "conda-env-python-py"
  },
  "language_info": {
   "codemirror_mode": {
    "name": "ipython",
    "version": 3
   },
   "file_extension": ".py",
   "mimetype": "text/x-python",
   "name": "python",
   "nbconvert_exporter": "python",
   "pygments_lexer": "ipython3",
   "version": "3.7.12"
  }
 },
 "nbformat": 4,
 "nbformat_minor": 5
}
